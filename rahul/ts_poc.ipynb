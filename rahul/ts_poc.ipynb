{
 "cells": [
  {
   "cell_type": "code",
   "execution_count": 164,
   "id": "9bb11f9b-1c96-412d-a933-f17aa5daf191",
   "metadata": {},
   "outputs": [],
   "source": [
    "import numpy as np\n",
    "import pandas as pd\n",
    "import matplotlib.pyplot as plt\n",
    "import seaborn as sns\n",
    "\n",
    "from sklearn.metrics import f1_score, balanced_accuracy_score, precision_score, recall_score, confusion_matrix\n",
    "from sklearn.ensemble import RandomForestClassifier"
   ]
  },
  {
   "cell_type": "code",
   "execution_count": 165,
   "id": "e464ecf9-d799-41d0-9dcc-c07ff4167d27",
   "metadata": {},
   "outputs": [],
   "source": [
    "data_path = \"/home/rasteiger/datasets/hack4good/\"\n",
    "cache_file = data_path + 'time_series_features.csv'"
   ]
  },
  {
   "cell_type": "code",
   "execution_count": 166,
   "id": "7ef9a5aa-60f7-468b-8853-f62dd894367e",
   "metadata": {},
   "outputs": [
    {
     "data": {
      "text/plain": [
       "Index(['filename', 'date', 'farmer_id', 'site_id', 'lat', 'lon', 'crop_name',\n",
       "       'growth_stage', 'damage', 'extent', 'season', 'is_damage',\n",
       "       'ts_columns0', 'ts_columns1', 'ts_columns2', 'ts_columns3',\n",
       "       'ts_columns4', 'ts_columns5', 'ts_columns6', 'ts_columns7',\n",
       "       'ts_columns8', 'ts_columns9', 'ts_columns10', 'ts_columns11',\n",
       "       'ts_columns12'],\n",
       "      dtype='object')"
      ]
     },
     "execution_count": 166,
     "metadata": {},
     "output_type": "execute_result"
    }
   ],
   "source": [
    "df.columns"
   ]
  },
  {
   "cell_type": "code",
   "execution_count": 183,
   "id": "2beb7045-6701-4a87-aa79-788c3fd01f75",
   "metadata": {},
   "outputs": [],
   "source": [
    "df = pd.read_csv(cache_file)"
   ]
  },
  {
   "cell_type": "code",
   "execution_count": 184,
   "id": "e388370c-255e-4a5e-b980-2555b8f41128",
   "metadata": {},
   "outputs": [],
   "source": [
    "#df['is_damage'] = df['damage']\n",
    "#df = df[~df['is_damage'].isin(['WN', 'FD'])]"
   ]
  },
  {
   "cell_type": "code",
   "execution_count": 185,
   "id": "a9d81fee-3af0-44fc-b96f-0e9bee80fcb5",
   "metadata": {},
   "outputs": [],
   "source": [
    "ts_columns = [c for c in df.columns if c.startswith('ts_columns')]\n",
    "feature_df = df[ts_columns + ['is_damage', 'farmer_id']]"
   ]
  },
  {
   "cell_type": "code",
   "execution_count": 186,
   "id": "9bba9dfa-115f-42eb-a3c8-354ca3a580ed",
   "metadata": {},
   "outputs": [],
   "source": [
    "def split_dataframe_on_column(df, column, split_sizes, random_state=42):\n",
    "    \n",
    "    if sum(split_sizes) != 1 or len(split_sizes) != 3:\n",
    "        raise ValueError(\"split sizes must sum up to 1.0 and have length == 3\")\n",
    "\n",
    "    feature_unique = pd.Series(df[column].unique())\n",
    "    train_split, val_split, test_split = np.split(feature_unique.sample(frac=1, random_state=random_state), \n",
    "                                                  [int(split_sizes[0]*len(feature_unique)), int((split_sizes[0] + split_sizes[1])*len(feature_unique))])\n",
    "\n",
    "    train_csv = df[df[column].isin(train_split)]\n",
    "    val_csv = df[df[column].isin(val_split)]\n",
    "    test_csv = df[df[column].isin(test_split)]\n",
    "\n",
    "    return train_csv, val_csv, test_csv"
   ]
  },
  {
   "cell_type": "code",
   "execution_count": 187,
   "id": "b5e2503d-ab16-4602-bac0-a164ce09dee4",
   "metadata": {},
   "outputs": [],
   "source": [
    "df_train, df_val, df_test = [x.drop('farmer_id', axis=1) for x in split_dataframe_on_column(feature_df, 'farmer_id', [0.8, 0.1, 0.1])]"
   ]
  },
  {
   "cell_type": "code",
   "execution_count": 188,
   "id": "680a4735-b829-4156-96e4-05cf2ef421f0",
   "metadata": {},
   "outputs": [],
   "source": [
    "X_train = df_train.drop('is_damage', axis=1)\n",
    "X_val = df_val.drop('is_damage', axis=1)\n",
    "X_test = df_test.drop('is_damage', axis=1)\n",
    "\n",
    "y_train = df_train['is_damage']\n",
    "y_val = df_val['is_damage']\n",
    "y_test = df_test['is_damage']"
   ]
  },
  {
   "cell_type": "code",
   "execution_count": 196,
   "id": "46398dbc-3285-4f2e-a557-3d6676240ba4",
   "metadata": {},
   "outputs": [],
   "source": [
    "rf = RandomForestClassifier(n_estimators=1000, n_jobs=-1, class_weight={0 : 0.1, 1 : 1.0})"
   ]
  },
  {
   "cell_type": "code",
   "execution_count": 197,
   "id": "a8f84c71-434e-4adc-b6a0-ae911b5eb046",
   "metadata": {},
   "outputs": [
    {
     "data": {
      "text/html": [
       "<style>#sk-container-id-19 {color: black;}#sk-container-id-19 pre{padding: 0;}#sk-container-id-19 div.sk-toggleable {background-color: white;}#sk-container-id-19 label.sk-toggleable__label {cursor: pointer;display: block;width: 100%;margin-bottom: 0;padding: 0.3em;box-sizing: border-box;text-align: center;}#sk-container-id-19 label.sk-toggleable__label-arrow:before {content: \"▸\";float: left;margin-right: 0.25em;color: #696969;}#sk-container-id-19 label.sk-toggleable__label-arrow:hover:before {color: black;}#sk-container-id-19 div.sk-estimator:hover label.sk-toggleable__label-arrow:before {color: black;}#sk-container-id-19 div.sk-toggleable__content {max-height: 0;max-width: 0;overflow: hidden;text-align: left;background-color: #f0f8ff;}#sk-container-id-19 div.sk-toggleable__content pre {margin: 0.2em;color: black;border-radius: 0.25em;background-color: #f0f8ff;}#sk-container-id-19 input.sk-toggleable__control:checked~div.sk-toggleable__content {max-height: 200px;max-width: 100%;overflow: auto;}#sk-container-id-19 input.sk-toggleable__control:checked~label.sk-toggleable__label-arrow:before {content: \"▾\";}#sk-container-id-19 div.sk-estimator input.sk-toggleable__control:checked~label.sk-toggleable__label {background-color: #d4ebff;}#sk-container-id-19 div.sk-label input.sk-toggleable__control:checked~label.sk-toggleable__label {background-color: #d4ebff;}#sk-container-id-19 input.sk-hidden--visually {border: 0;clip: rect(1px 1px 1px 1px);clip: rect(1px, 1px, 1px, 1px);height: 1px;margin: -1px;overflow: hidden;padding: 0;position: absolute;width: 1px;}#sk-container-id-19 div.sk-estimator {font-family: monospace;background-color: #f0f8ff;border: 1px dotted black;border-radius: 0.25em;box-sizing: border-box;margin-bottom: 0.5em;}#sk-container-id-19 div.sk-estimator:hover {background-color: #d4ebff;}#sk-container-id-19 div.sk-parallel-item::after {content: \"\";width: 100%;border-bottom: 1px solid gray;flex-grow: 1;}#sk-container-id-19 div.sk-label:hover label.sk-toggleable__label {background-color: #d4ebff;}#sk-container-id-19 div.sk-serial::before {content: \"\";position: absolute;border-left: 1px solid gray;box-sizing: border-box;top: 0;bottom: 0;left: 50%;z-index: 0;}#sk-container-id-19 div.sk-serial {display: flex;flex-direction: column;align-items: center;background-color: white;padding-right: 0.2em;padding-left: 0.2em;position: relative;}#sk-container-id-19 div.sk-item {position: relative;z-index: 1;}#sk-container-id-19 div.sk-parallel {display: flex;align-items: stretch;justify-content: center;background-color: white;position: relative;}#sk-container-id-19 div.sk-item::before, #sk-container-id-19 div.sk-parallel-item::before {content: \"\";position: absolute;border-left: 1px solid gray;box-sizing: border-box;top: 0;bottom: 0;left: 50%;z-index: -1;}#sk-container-id-19 div.sk-parallel-item {display: flex;flex-direction: column;z-index: 1;position: relative;background-color: white;}#sk-container-id-19 div.sk-parallel-item:first-child::after {align-self: flex-end;width: 50%;}#sk-container-id-19 div.sk-parallel-item:last-child::after {align-self: flex-start;width: 50%;}#sk-container-id-19 div.sk-parallel-item:only-child::after {width: 0;}#sk-container-id-19 div.sk-dashed-wrapped {border: 1px dashed gray;margin: 0 0.4em 0.5em 0.4em;box-sizing: border-box;padding-bottom: 0.4em;background-color: white;}#sk-container-id-19 div.sk-label label {font-family: monospace;font-weight: bold;display: inline-block;line-height: 1.2em;}#sk-container-id-19 div.sk-label-container {text-align: center;}#sk-container-id-19 div.sk-container {/* jupyter's `normalize.less` sets `[hidden] { display: none; }` but bootstrap.min.css set `[hidden] { display: none !important; }` so we also need the `!important` here to be able to override the default hidden behavior on the sphinx rendered scikit-learn.org. See: https://github.com/scikit-learn/scikit-learn/issues/21755 */display: inline-block !important;position: relative;}#sk-container-id-19 div.sk-text-repr-fallback {display: none;}</style><div id=\"sk-container-id-19\" class=\"sk-top-container\"><div class=\"sk-text-repr-fallback\"><pre>RandomForestClassifier(class_weight={0: 0.1, 1: 1.0}, n_estimators=1000,\n",
       "                       n_jobs=-1)</pre><b>In a Jupyter environment, please rerun this cell to show the HTML representation or trust the notebook. <br />On GitHub, the HTML representation is unable to render, please try loading this page with nbviewer.org.</b></div><div class=\"sk-container\" hidden><div class=\"sk-item\"><div class=\"sk-estimator sk-toggleable\"><input class=\"sk-toggleable__control sk-hidden--visually\" id=\"sk-estimator-id-19\" type=\"checkbox\" checked><label for=\"sk-estimator-id-19\" class=\"sk-toggleable__label sk-toggleable__label-arrow\">RandomForestClassifier</label><div class=\"sk-toggleable__content\"><pre>RandomForestClassifier(class_weight={0: 0.1, 1: 1.0}, n_estimators=1000,\n",
       "                       n_jobs=-1)</pre></div></div></div></div></div>"
      ],
      "text/plain": [
       "RandomForestClassifier(class_weight={0: 0.1, 1: 1.0}, n_estimators=1000,\n",
       "                       n_jobs=-1)"
      ]
     },
     "execution_count": 197,
     "metadata": {},
     "output_type": "execute_result"
    }
   ],
   "source": [
    "rf.fit(X_train, y_train)"
   ]
  },
  {
   "cell_type": "code",
   "execution_count": 198,
   "id": "c4844dc7-52ea-46c4-990d-c69bbaa698b7",
   "metadata": {},
   "outputs": [],
   "source": [
    "y_val_pred = rf.predict(X_val)"
   ]
  },
  {
   "cell_type": "code",
   "execution_count": 199,
   "id": "b17e66aa-33f6-4fb7-a07a-8b97e98bba27",
   "metadata": {},
   "outputs": [],
   "source": [
    "f1 = f1_score(y_val, y_val_pred, average='macro')\n",
    "accuracy = balanced_accuracy_score(y_val, y_val_pred)\n",
    "precision = precision_score(y_val, y_val_pred, average='macro')\n",
    "recall = recall_score(y_val, y_val_pred, average='macro')"
   ]
  },
  {
   "cell_type": "code",
   "execution_count": 200,
   "id": "f5f9506e-475d-425a-8f5e-e2863154478c",
   "metadata": {},
   "outputs": [
    {
     "data": {
      "text/plain": [
       "(0.486027218619701, 0.5456693224641819, 0.5566230798720931, 0.5456693224641819)"
      ]
     },
     "execution_count": 200,
     "metadata": {},
     "output_type": "execute_result"
    }
   ],
   "source": [
    "f1, accuracy, precision, recall"
   ]
  },
  {
   "cell_type": "code",
   "execution_count": 203,
   "id": "535e8a25-4b63-4542-a771-af994526100a",
   "metadata": {
    "scrolled": true
   },
   "outputs": [
    {
     "data": {
      "text/plain": [
       "<Axes: >"
      ]
     },
     "execution_count": 203,
     "metadata": {},
     "output_type": "execute_result"
    },
    {
     "data": {
      "image/png": "[encoded data removed]",
      "text/plain": [
       "<Figure size 1200x700 with 2 Axes>"
      ]
     },
     "metadata": {},
     "output_type": "display_data"
    }
   ],
   "source": [
    "cf_matrix = confusion_matrix(y_val, y_val_pred)\n",
    "df_cm = pd.DataFrame(cf_matrix / np.sum(cf_matrix, axis=1)[:, None], index = [\"No Damage\", \"Damage\"], columns = [\"No Damage\", \"Damage\"])\n",
    "plt.figure(figsize = (12,7))\n",
    "sns.heatmap(df_cm, annot=True)"
   ]
  },
  {
   "cell_type": "code",
   "execution_count": 202,
   "id": "48196965-85f4-44b4-8c6e-59bfc6fc2201",
   "metadata": {},
   "outputs": [
    {
     "data": {
      "text/plain": [
       "array([[391, 919],\n",
       "       [180, 689]])"
      ]
     },
     "execution_count": 202,
     "metadata": {},
     "output_type": "execute_result"
    }
   ],
   "source": [
    "cf_matrix"
   ]
  },
  {
   "cell_type": "code",
   "execution_count": null,
   "id": "273024bb-c614-4af5-a4ae-767ead16c33a",
   "metadata": {},
   "outputs": [],
   "source": []
  },
  {
   "cell_type": "code",
   "execution_count": null,
   "id": "34fb1f32-36d6-4310-8c8f-647f6798308b",
   "metadata": {},
   "outputs": [],
   "source": []
  }
 ],
 "metadata": {
  "kernelspec": {
   "display_name": "Python 3 (ipykernel)",
   "language": "python",
   "name": "python3"
  },
  "language_info": {
   "codemirror_mode": {
    "name": "ipython",
    "version": 3
   },
   "file_extension": ".py",
   "mimetype": "text/x-python",
   "name": "python",
   "nbconvert_exporter": "python",
   "pygments_lexer": "ipython3",
   "version": "3.8.18"
  }
 },
 "nbformat": 4,
 "nbformat_minor": 5
}
