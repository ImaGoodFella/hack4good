{
 "cells": [
  {
   "cell_type": "code",
   "execution_count": 1,
   "id": "7180d4fa-72cb-4d12-87bc-f6b5211a12ff",
   "metadata": {},
   "outputs": [],
   "source": [
    "import pandas as pd"
   ]
  },
  {
   "cell_type": "code",
   "execution_count": 2,
   "id": "1d05e61c-afe9-4629-91f5-494748cb35b3",
   "metadata": {},
   "outputs": [],
   "source": [
    "path = \"/home/rasteiger/datasets/hack4good/\"\n",
    "\n",
    "label_df = pd.read_csv(path + \"labels.csv\")"
   ]
  },
  {
   "cell_type": "code",
   "execution_count": 3,
   "id": "6999ff46-9352-40c9-9c4e-6a9493849f7a",
   "metadata": {},
   "outputs": [],
   "source": [
    "#label_df.apply(lambda x: x.unique())"
   ]
  },
  {
   "cell_type": "code",
   "execution_count": 4,
   "id": "680d4c8f-aebe-4c53-960d-9c87785b95f7",
   "metadata": {},
   "outputs": [
    {
     "data": {
      "text/html": [
       "<div>\n",
       "<style scoped>\n",
       "    .dataframe tbody tr th:only-of-type {\n",
       "        vertical-align: middle;\n",
       "    }\n",
       "\n",
       "    .dataframe tbody tr th {\n",
       "        vertical-align: top;\n",
       "    }\n",
       "\n",
       "    .dataframe thead th {\n",
       "        text-align: right;\n",
       "    }\n",
       "</style>\n",
       "<table border=\"1\" class=\"dataframe\">\n",
       "  <thead>\n",
       "    <tr style=\"text-align: right;\">\n",
       "      <th></th>\n",
       "      <th>site_id</th>\n",
       "      <th>lat</th>\n",
       "      <th>lon</th>\n",
       "      <th>extent</th>\n",
       "    </tr>\n",
       "  </thead>\n",
       "  <tbody>\n",
       "    <tr>\n",
       "      <th>count</th>\n",
       "      <td>21554.000000</td>\n",
       "      <td>21554.000000</td>\n",
       "      <td>21554.000000</td>\n",
       "      <td>21554.000000</td>\n",
       "    </tr>\n",
       "    <tr>\n",
       "      <th>mean</th>\n",
       "      <td>5207.952306</td>\n",
       "      <td>-0.185975</td>\n",
       "      <td>36.566336</td>\n",
       "      <td>16.336179</td>\n",
       "    </tr>\n",
       "    <tr>\n",
       "      <th>std</th>\n",
       "      <td>3311.224998</td>\n",
       "      <td>0.765342</td>\n",
       "      <td>1.536258</td>\n",
       "      <td>21.092255</td>\n",
       "    </tr>\n",
       "    <tr>\n",
       "      <th>min</th>\n",
       "      <td>15.000000</td>\n",
       "      <td>-2.428545</td>\n",
       "      <td>34.004435</td>\n",
       "      <td>0.000000</td>\n",
       "    </tr>\n",
       "    <tr>\n",
       "      <th>25%</th>\n",
       "      <td>1698.000000</td>\n",
       "      <td>-0.587884</td>\n",
       "      <td>34.498040</td>\n",
       "      <td>0.000000</td>\n",
       "    </tr>\n",
       "    <tr>\n",
       "      <th>50%</th>\n",
       "      <td>5414.000000</td>\n",
       "      <td>-0.010499</td>\n",
       "      <td>37.580540</td>\n",
       "      <td>10.000000</td>\n",
       "    </tr>\n",
       "    <tr>\n",
       "      <th>75%</th>\n",
       "      <td>8077.000000</td>\n",
       "      <td>0.505895</td>\n",
       "      <td>37.714483</td>\n",
       "      <td>20.000000</td>\n",
       "    </tr>\n",
       "    <tr>\n",
       "      <th>max</th>\n",
       "      <td>11288.000000</td>\n",
       "      <td>0.929946</td>\n",
       "      <td>38.081392</td>\n",
       "      <td>100.000000</td>\n",
       "    </tr>\n",
       "  </tbody>\n",
       "</table>\n",
       "</div>"
      ],
      "text/plain": [
       "            site_id           lat           lon        extent\n",
       "count  21554.000000  21554.000000  21554.000000  21554.000000\n",
       "mean    5207.952306     -0.185975     36.566336     16.336179\n",
       "std     3311.224998      0.765342      1.536258     21.092255\n",
       "min       15.000000     -2.428545     34.004435      0.000000\n",
       "25%     1698.000000     -0.587884     34.498040      0.000000\n",
       "50%     5414.000000     -0.010499     37.580540     10.000000\n",
       "75%     8077.000000      0.505895     37.714483     20.000000\n",
       "max    11288.000000      0.929946     38.081392    100.000000"
      ]
     },
     "execution_count": 4,
     "metadata": {},
     "output_type": "execute_result"
    }
   ],
   "source": [
    "label_df.describe()"
   ]
  },
  {
   "cell_type": "code",
   "execution_count": 5,
   "id": "6a6a3dce-2ffa-44d7-8ae1-25e62eef6223",
   "metadata": {},
   "outputs": [
    {
     "data": {
      "text/plain": [
       "Index(['filename', 'date', 'farmer_id', 'site_id', 'lat', 'lon', 'crop_name',\n",
       "       'growth_stage', 'damage', 'extent', 'season'],\n",
       "      dtype='object')"
      ]
     },
     "execution_count": 5,
     "metadata": {},
     "output_type": "execute_result"
    }
   ],
   "source": [
    "label_df.columns"
   ]
  },
  {
   "cell_type": "code",
   "execution_count": 6,
   "id": "19bd98b0-aa25-439e-94ca-e003c8f38788",
   "metadata": {
    "scrolled": true
   },
   "outputs": [
    {
     "data": {
      "text/plain": [
       "damage\n",
       "G     8996\n",
       "WD    7938\n",
       "DR    3953\n",
       "ND     327\n",
       "PS     186\n",
       "DS     134\n",
       "WN      17\n",
       "FD       3\n",
       "Name: count, dtype: int64"
      ]
     },
     "execution_count": 6,
     "metadata": {},
     "output_type": "execute_result"
    }
   ],
   "source": [
    "label_df['damage'].value_counts()"
   ]
  },
  {
   "cell_type": "code",
   "execution_count": 7,
   "id": "5635630e-d77d-4426-bfe8-faee0f945bc4",
   "metadata": {},
   "outputs": [
    {
     "data": {
      "text/html": [
       "<div>\n",
       "<style scoped>\n",
       "    .dataframe tbody tr th:only-of-type {\n",
       "        vertical-align: middle;\n",
       "    }\n",
       "\n",
       "    .dataframe tbody tr th {\n",
       "        vertical-align: top;\n",
       "    }\n",
       "\n",
       "    .dataframe thead th {\n",
       "        text-align: right;\n",
       "    }\n",
       "</style>\n",
       "<table border=\"1\" class=\"dataframe\">\n",
       "  <thead>\n",
       "    <tr style=\"text-align: right;\">\n",
       "      <th></th>\n",
       "      <th>filename</th>\n",
       "      <th>date</th>\n",
       "      <th>farmer_id</th>\n",
       "      <th>site_id</th>\n",
       "      <th>lat</th>\n",
       "      <th>lon</th>\n",
       "      <th>crop_name</th>\n",
       "      <th>growth_stage</th>\n",
       "      <th>damage</th>\n",
       "      <th>extent</th>\n",
       "      <th>season</th>\n",
       "    </tr>\n",
       "  </thead>\n",
       "  <tbody>\n",
       "    <tr>\n",
       "      <th>0</th>\n",
       "      <td>L1094F00008C01S00327Rp03973.jpg</td>\n",
       "      <td>2020-12-11 07:23:25</td>\n",
       "      <td>BN001</td>\n",
       "      <td>327</td>\n",
       "      <td>0.638672</td>\n",
       "      <td>34.497220</td>\n",
       "      <td>maize</td>\n",
       "      <td>F</td>\n",
       "      <td>G</td>\n",
       "      <td>0</td>\n",
       "      <td>SR2020</td>\n",
       "    </tr>\n",
       "    <tr>\n",
       "      <th>1</th>\n",
       "      <td>L1094F00008C01S00327Rp02478.jpg</td>\n",
       "      <td>2020-12-03 07:40:40</td>\n",
       "      <td>BN001</td>\n",
       "      <td>327</td>\n",
       "      <td>0.638672</td>\n",
       "      <td>34.497220</td>\n",
       "      <td>maize</td>\n",
       "      <td>F</td>\n",
       "      <td>G</td>\n",
       "      <td>0</td>\n",
       "      <td>SR2020</td>\n",
       "    </tr>\n",
       "    <tr>\n",
       "      <th>2</th>\n",
       "      <td>L1094F00008C01S00327Rp04425.jpg</td>\n",
       "      <td>2020-12-13 07:19:43</td>\n",
       "      <td>BN001</td>\n",
       "      <td>327</td>\n",
       "      <td>0.638672</td>\n",
       "      <td>34.497220</td>\n",
       "      <td>maize</td>\n",
       "      <td>F</td>\n",
       "      <td>G</td>\n",
       "      <td>0</td>\n",
       "      <td>SR2020</td>\n",
       "    </tr>\n",
       "    <tr>\n",
       "      <th>3</th>\n",
       "      <td>L1094F00008C01S00327Rp04500.jpg</td>\n",
       "      <td>2020-12-13 11:32:43</td>\n",
       "      <td>BN001</td>\n",
       "      <td>327</td>\n",
       "      <td>0.638672</td>\n",
       "      <td>34.497220</td>\n",
       "      <td>maize</td>\n",
       "      <td>F</td>\n",
       "      <td>G</td>\n",
       "      <td>0</td>\n",
       "      <td>SR2020</td>\n",
       "    </tr>\n",
       "    <tr>\n",
       "      <th>4</th>\n",
       "      <td>L1094F00008C01S00327Rp06279.jpg</td>\n",
       "      <td>2020-12-20 06:56:52</td>\n",
       "      <td>BN001</td>\n",
       "      <td>327</td>\n",
       "      <td>0.638672</td>\n",
       "      <td>34.497220</td>\n",
       "      <td>maize</td>\n",
       "      <td>M</td>\n",
       "      <td>DR</td>\n",
       "      <td>10</td>\n",
       "      <td>SR2020</td>\n",
       "    </tr>\n",
       "    <tr>\n",
       "      <th>...</th>\n",
       "      <td>...</td>\n",
       "      <td>...</td>\n",
       "      <td>...</td>\n",
       "      <td>...</td>\n",
       "      <td>...</td>\n",
       "      <td>...</td>\n",
       "      <td>...</td>\n",
       "      <td>...</td>\n",
       "      <td>...</td>\n",
       "      <td>...</td>\n",
       "      <td>...</td>\n",
       "    </tr>\n",
       "    <tr>\n",
       "      <th>21549</th>\n",
       "      <td>246_initial_1_1392_1392.JPG</td>\n",
       "      <td>2020-04-28</td>\n",
       "      <td>BN034</td>\n",
       "      <td>1392</td>\n",
       "      <td>0.591328</td>\n",
       "      <td>34.498999</td>\n",
       "      <td>maize</td>\n",
       "      <td>V</td>\n",
       "      <td>G</td>\n",
       "      <td>0</td>\n",
       "      <td>LR2020</td>\n",
       "    </tr>\n",
       "    <tr>\n",
       "      <th>21550</th>\n",
       "      <td>246_initial_1_1386_1386.JPG</td>\n",
       "      <td>2020-04-28</td>\n",
       "      <td>BN034</td>\n",
       "      <td>1386</td>\n",
       "      <td>0.592675</td>\n",
       "      <td>34.475880</td>\n",
       "      <td>maize</td>\n",
       "      <td>V</td>\n",
       "      <td>G</td>\n",
       "      <td>0</td>\n",
       "      <td>LR2020</td>\n",
       "    </tr>\n",
       "    <tr>\n",
       "      <th>21551</th>\n",
       "      <td>246_initial_1_1390_1390.JPG</td>\n",
       "      <td>2020-04-28</td>\n",
       "      <td>BN034</td>\n",
       "      <td>1390</td>\n",
       "      <td>0.591328</td>\n",
       "      <td>34.498999</td>\n",
       "      <td>maize</td>\n",
       "      <td>V</td>\n",
       "      <td>G</td>\n",
       "      <td>0</td>\n",
       "      <td>LR2020</td>\n",
       "    </tr>\n",
       "    <tr>\n",
       "      <th>21552</th>\n",
       "      <td>248_initial_1_1635_1635.JPG</td>\n",
       "      <td>2020-05-04</td>\n",
       "      <td>EM1334</td>\n",
       "      <td>1635</td>\n",
       "      <td>-0.797388</td>\n",
       "      <td>37.380638</td>\n",
       "      <td>maize</td>\n",
       "      <td>V</td>\n",
       "      <td>G</td>\n",
       "      <td>0</td>\n",
       "      <td>LR2020</td>\n",
       "    </tr>\n",
       "    <tr>\n",
       "      <th>21553</th>\n",
       "      <td>248_initial_1_1633_1633.JPG</td>\n",
       "      <td>2020-05-04</td>\n",
       "      <td>EM1334</td>\n",
       "      <td>1633</td>\n",
       "      <td>-0.815407</td>\n",
       "      <td>37.251564</td>\n",
       "      <td>maize</td>\n",
       "      <td>V</td>\n",
       "      <td>WD</td>\n",
       "      <td>10</td>\n",
       "      <td>LR2020</td>\n",
       "    </tr>\n",
       "  </tbody>\n",
       "</table>\n",
       "<p>20922 rows × 11 columns</p>\n",
       "</div>"
      ],
      "text/plain": [
       "                              filename                 date farmer_id  \\\n",
       "0      L1094F00008C01S00327Rp03973.jpg  2020-12-11 07:23:25     BN001   \n",
       "1      L1094F00008C01S00327Rp02478.jpg  2020-12-03 07:40:40     BN001   \n",
       "2      L1094F00008C01S00327Rp04425.jpg  2020-12-13 07:19:43     BN001   \n",
       "3      L1094F00008C01S00327Rp04500.jpg  2020-12-13 11:32:43     BN001   \n",
       "4      L1094F00008C01S00327Rp06279.jpg  2020-12-20 06:56:52     BN001   \n",
       "...                                ...                  ...       ...   \n",
       "21549      246_initial_1_1392_1392.JPG           2020-04-28     BN034   \n",
       "21550      246_initial_1_1386_1386.JPG           2020-04-28     BN034   \n",
       "21551      246_initial_1_1390_1390.JPG           2020-04-28     BN034   \n",
       "21552      248_initial_1_1635_1635.JPG           2020-05-04    EM1334   \n",
       "21553      248_initial_1_1633_1633.JPG           2020-05-04    EM1334   \n",
       "\n",
       "       site_id       lat        lon crop_name growth_stage damage  extent  \\\n",
       "0          327  0.638672  34.497220     maize            F      G       0   \n",
       "1          327  0.638672  34.497220     maize            F      G       0   \n",
       "2          327  0.638672  34.497220     maize            F      G       0   \n",
       "3          327  0.638672  34.497220     maize            F      G       0   \n",
       "4          327  0.638672  34.497220     maize            M     DR      10   \n",
       "...        ...       ...        ...       ...          ...    ...     ...   \n",
       "21549     1392  0.591328  34.498999     maize            V      G       0   \n",
       "21550     1386  0.592675  34.475880     maize            V      G       0   \n",
       "21551     1390  0.591328  34.498999     maize            V      G       0   \n",
       "21552     1635 -0.797388  37.380638     maize            V      G       0   \n",
       "21553     1633 -0.815407  37.251564     maize            V     WD      10   \n",
       "\n",
       "       season  \n",
       "0      SR2020  \n",
       "1      SR2020  \n",
       "2      SR2020  \n",
       "3      SR2020  \n",
       "4      SR2020  \n",
       "...       ...  \n",
       "21549  LR2020  \n",
       "21550  LR2020  \n",
       "21551  LR2020  \n",
       "21552  LR2020  \n",
       "21553  LR2020  \n",
       "\n",
       "[20922 rows x 11 columns]"
      ]
     },
     "execution_count": 7,
     "metadata": {},
     "output_type": "execute_result"
    }
   ],
   "source": [
    "label_df[label_df['crop_name'] == 'maize']"
   ]
  },
  {
   "cell_type": "code",
   "execution_count": 7,
   "id": "dec68ea8-b5bf-46cb-8832-cb6fdacf6f66",
   "metadata": {
    "scrolled": true
   },
   "outputs": [
    {
     "data": {
      "text/plain": [
       "crop_name\n",
       "maize         20922\n",
       "green gram      411\n",
       "sorghum         206\n",
       "soybean          15\n",
       "Name: count, dtype: int64"
      ]
     },
     "execution_count": 7,
     "metadata": {},
     "output_type": "execute_result"
    }
   ],
   "source": [
    "label_df['crop_name'].value_counts()"
   ]
  },
  {
   "cell_type": "code",
   "execution_count": 8,
   "id": "c634752c-aaa1-4d9f-a014-e085ce900724",
   "metadata": {},
   "outputs": [
    {
     "data": {
      "text/plain": [
       "2754"
      ]
     },
     "execution_count": 8,
     "metadata": {},
     "output_type": "execute_result"
    }
   ],
   "source": [
    "len(label_df['farmer_id'].unique())"
   ]
  },
  {
   "cell_type": "code",
   "execution_count": 9,
   "id": "ecc02b7a-2072-467c-b239-801c7f850767",
   "metadata": {},
   "outputs": [
    {
     "data": {
      "text/plain": [
       "4"
      ]
     },
     "execution_count": 9,
     "metadata": {},
     "output_type": "execute_result"
    }
   ],
   "source": [
    "import torch\n",
    "\n",
    "torch.cuda.device_count()"
   ]
  },
  {
   "cell_type": "code",
   "execution_count": 10,
   "id": "4fb20b07-22b0-46ac-8210-fe9f33cc3518",
   "metadata": {},
   "outputs": [],
   "source": [
    "time_series_df = pd.read_csv(path + \"era5_land_t2m_pev_tp.csv\")"
   ]
  },
  {
   "cell_type": "code",
   "execution_count": 11,
   "id": "4c0f1ed8-978d-4154-801c-6eaba3920536",
   "metadata": {},
   "outputs": [],
   "source": [
    "len(time_series_df['time'].unique())\n",
    "\n",
    "from tqdm import tqdm\n",
    "tqdm.pandas()"
   ]
  },
  {
   "cell_type": "code",
   "execution_count": 12,
   "id": "b2c06bf7-33cf-4165-9622-4d86a7965126",
   "metadata": {},
   "outputs": [
    {
     "name": "stderr",
     "output_type": "stream",
     "text": [
      "  0%|                                                                                             | 0/29052864 [00:00<?, ?it/s]"
     ]
    },
    {
     "name": "stderr",
     "output_type": "stream",
     "text": [
      "100%|██████████████████████████████████████████████████████████████████████████| 29052864/29052864 [02:38<00:00, 183441.16it/s]\n"
     ]
    },
    {
     "data": {
      "text/plain": [
       "0            (34.0, 1.0)\n",
       "1            (34.0, 1.0)\n",
       "2            (34.0, 1.0)\n",
       "3            (34.0, 1.0)\n",
       "4            (34.0, 1.0)\n",
       "                ...     \n",
       "29052859    (38.5, -2.5)\n",
       "29052860    (38.5, -2.5)\n",
       "29052861    (38.5, -2.5)\n",
       "29052862    (38.5, -2.5)\n",
       "29052863    (38.5, -2.5)\n",
       "Length: 29052864, dtype: object"
      ]
     },
     "execution_count": 12,
     "metadata": {},
     "output_type": "execute_result"
    }
   ],
   "source": [
    "tmp = time_series_df[['longitude','latitude']].progress_apply(lambda x: (x[0], x[1]), axis=1)\n",
    "tmp"
   ]
  },
  {
   "cell_type": "code",
   "execution_count": 13,
   "id": "e4972473-fd86-4c0a-b983-126861e96ff3",
   "metadata": {},
   "outputs": [
    {
     "data": {
      "text/plain": [
       "29052864"
      ]
     },
     "execution_count": 13,
     "metadata": {},
     "output_type": "execute_result"
    }
   ],
   "source": [
    "len(tmp.unique()) * len(time_series_df['time'].unique())"
   ]
  },
  {
   "cell_type": "code",
   "execution_count": 14,
   "id": "53e26aa8-f16b-4d95-b7b2-69a6de9c11a2",
   "metadata": {},
   "outputs": [
    {
     "data": {
      "text/plain": [
       "29052864"
      ]
     },
     "execution_count": 14,
     "metadata": {},
     "output_type": "execute_result"
    }
   ],
   "source": [
    "len(time_series_df)"
   ]
  },
  {
   "cell_type": "code",
   "execution_count": 15,
   "id": "62fc66a4-71eb-4c17-9d4c-69723bd25468",
   "metadata": {},
   "outputs": [
    {
     "data": {
      "text/plain": [
       "17544"
      ]
     },
     "execution_count": 15,
     "metadata": {},
     "output_type": "execute_result"
    }
   ],
   "source": [
    "len(time_series_df['time'].unique())"
   ]
  },
  {
   "cell_type": "code",
   "execution_count": 16,
   "id": "d4075d88-ee73-4142-ab55-e333df2680cf",
   "metadata": {},
   "outputs": [
    {
     "data": {
      "text/plain": [
       "2.0027397260273974"
      ]
     },
     "execution_count": 16,
     "metadata": {},
     "output_type": "execute_result"
    }
   ],
   "source": [
    "17544 / 24 / 365"
   ]
  },
  {
   "cell_type": "code",
   "execution_count": null,
   "id": "deffffff-8f8e-4068-a260-68791261afe3",
   "metadata": {},
   "outputs": [],
   "source": []
  }
 ],
 "metadata": {
  "kernelspec": {
   "display_name": "Python 3 (ipykernel)",
   "language": "python",
   "name": "python3"
  },
  "language_info": {
   "codemirror_mode": {
    "name": "ipython",
    "version": 3
   },
   "file_extension": ".py",
   "mimetype": "text/x-python",
   "name": "python",
   "nbconvert_exporter": "python",
   "pygments_lexer": "ipython3",
   "version": "3.8.18"
  }
 },
 "nbformat": 4,
 "nbformat_minor": 5
}
