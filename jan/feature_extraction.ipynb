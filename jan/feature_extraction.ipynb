{
 "cells": [
  {
   "cell_type": "code",
   "execution_count": 1,
   "metadata": {},
   "outputs": [],
   "source": [
    "import numpy as np\n",
    "import pandas as pd\n",
    "import xarray as xr\n",
    "import os\n",
    "\n",
    "from tqdm import tqdm\n",
    "tqdm.pandas()\n",
    "from tsfresh import extract_features\n",
    "from tsfresh import extract_relevant_features\n",
    "from tsfresh.utilities.dataframe_functions import impute\n",
    "from tsfresh.feature_extraction import EfficientFCParameters \n",
    "settings = EfficientFCParameters() #extract only time series features which are efficient to compute"
   ]
  },
  {
   "cell_type": "code",
   "execution_count": null,
   "metadata": {},
   "outputs": [],
   "source": [
    "data_path = \"../data/\"\n",
    "\n",
    "# Files and Folders of interest\n",
    "cache_file = data_path + 'time_series_features.csv'\n",
    "path_weather_data = data_path + 'era5_land_t2m_pev_tp.csv'\n",
    "label_path = data_path + \"labels.csv\"\n",
    "\n",
    "df = pd.read_csv(path_weather_data, index_col=(0, 1, 2))\n",
    "df.index = df.index.set_levels(df.index.levels[2].astype('datetime64[ns]'), level=2)\n",
    "weather_data = df.to_xarray()\n",
    "labels = pd.read_csv(label_path)\n",
    "labels['date'] = pd.to_datetime(labels['date'], format='mixed')\n"
   ]
  },
  {
   "cell_type": "code",
   "execution_count": null,
   "metadata": {},
   "outputs": [],
   "source": [
    "def get_coords(img_name, labels, join_column):\n",
    "    row = labels[labels[join_column] == img_name]\n",
    "    return (row.iloc[0]['lat'], row.iloc[0]['lon'])\n",
    "\n",
    "def get_ts_of_coordinates(img_name, weather_data, labels, join_column):\n",
    "    # get the time series for each coordinate indexed by its position in the labels.csv\n",
    "    frames=[]\n",
    "    for v,i in enumerate(img_name):\n",
    "        (lon, lat) = get_coords(i, labels, join_column)\n",
    "        date = labels[labels[join_column] == i].iloc[0]['date']\n",
    "        df = weather_data.sel(latitude= lat, longitude= lon, method='nearest').sel(time = slice(date - pd.DateOffset(days=30, second=1), date)).to_dataframe()\n",
    "        df.drop('longitude',axis=1,inplace=True)\n",
    "        df.drop('latitude',axis=1,inplace=True)\n",
    "        df['id']=v\n",
    "        frames.append(df)\n",
    "    final = pd.concat(frames)\n",
    "    final.to_csv(data_path+\"ts_coord.csv\")"
   ]
  },
  {
   "cell_type": "code",
   "execution_count": null,
   "metadata": {},
   "outputs": [],
   "source": [
    "get_ts_of_coordinates(labels['filename'],weather_data,labels,'filename')\n",
    "ts_coord = pd.read_csv(data_path+'ts_coord.csv')"
   ]
  },
  {
   "cell_type": "code",
   "execution_count": null,
   "metadata": {},
   "outputs": [],
   "source": [
    "# Feature Extraction using tsfresh\n",
    "# !!! Using the full dataframe will likely not work. Feature extraction takes ~ 45 min for 4000 coordinates !!!\n",
    "\n",
    "ts_features = extract_features(ts_coord, column_id='id', column_sort='time',default_fc_parameters=settings)\n",
    "ts_features.dropna(axis=1, inplace = True)\n",
    "\n",
    "ts_features.to_csv(data_path+\"ts_features.csv\")\n"
   ]
  }
 ],
 "metadata": {
  "kernelspec": {
   "display_name": "Python 3",
   "language": "python",
   "name": "python3"
  },
  "language_info": {
   "codemirror_mode": {
    "name": "ipython",
    "version": 3
   },
   "file_extension": ".py",
   "mimetype": "text/x-python",
   "name": "python",
   "nbconvert_exporter": "python",
   "pygments_lexer": "ipython3",
   "version": "3.10.11"
  }
 },
 "nbformat": 4,
 "nbformat_minor": 2
}
