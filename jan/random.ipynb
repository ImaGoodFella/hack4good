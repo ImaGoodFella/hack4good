{
 "cells": [
  {
   "cell_type": "code",
   "execution_count": null,
   "metadata": {},
   "outputs": [],
   "source": [
    "#Code fragment to plot stuff in Kenya\n",
    "\n",
    "import pandas as pd\n",
    "import numpy as np\n",
    "import xarray as xr\n",
    "from shapely.geometry import Point\n",
    "import geopandas as gpd\n",
    "from geopandas import GeoDataFrame"
   ]
  },
  {
   "cell_type": "code",
   "execution_count": null,
   "metadata": {},
   "outputs": [],
   "source": [
    "dir = \"\"\n",
    "labels = pd.read_csv(f'{dir}/data/labels.csv')"
   ]
  },
  {
   "cell_type": "code",
   "execution_count": null,
   "metadata": {},
   "outputs": [],
   "source": [
    "dateandlocf = labels[labels['extent']>=50]\n",
    "dateandlocn = labels[labels['extent']<50]\n",
    "geometry = [Point(xy) for xy in zip(dateandlocf['lon'], dateandlocf['lat'])]\n",
    "gdf1 = GeoDataFrame(dateandlocf, geometry=geometry)   \n",
    "geometry = [Point(xy) for xy in zip(dateandlocn['lon'], dateandlocn['lat'])]\n",
    "gdf2 = GeoDataFrame(dateandlocn, geometry=geometry)   \n",
    "\n",
    "#this is a simple map that goes with geopandas\n",
    "world = gpd.read_file(gpd.datasets.get_path('naturalearth_lowres'))\n",
    "kenya = world.loc[world['name'] == 'Kenya']\n",
    "ax = kenya.plot()\n",
    "gdf1.plot(ax=ax, color='r',markersize=2)\n",
    "gdf2.plot(ax=ax, color='g',markersize=1)\n",
    "minx, miny, maxx, maxy = kenya.total_bounds\n",
    "ax.set_xlim(minx, maxx)\n",
    "ax.set_ylim(miny, maxy)"
   ]
  }
 ],
 "metadata": {
  "language_info": {
   "name": "python"
  }
 },
 "nbformat": 4,
 "nbformat_minor": 2
}
