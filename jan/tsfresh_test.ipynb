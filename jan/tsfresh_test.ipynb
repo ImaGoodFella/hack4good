{
 "cells": [
  {
   "cell_type": "code",
   "execution_count": 1,
   "metadata": {},
   "outputs": [],
   "source": [
    "import numpy as np\n",
    "import pandas as pd\n",
    "import xarray as xr\n",
    "import os\n",
    "\n",
    "from tqdm import tqdm\n",
    "tqdm.pandas()\n",
    "\n",
    "import dask.dataframe as dd"
   ]
  },
  {
   "cell_type": "code",
   "execution_count": 21,
   "metadata": {},
   "outputs": [],
   "source": [
    "from tsfresh import extract_features\n",
    "from tsfresh import extract_relevant_features\n",
    "from tsfresh.utilities.dataframe_functions import impute\n",
    "from tsfresh.feature_extraction import EfficientFCParameters\n",
    "settings = EfficientFCParameters()\n",
    "from tsfresh.utilities.distribution import MultiprocessingDistributor\n",
    "Distributor = MultiprocessingDistributor(n_workers=4,\n",
    "                                         disable_progressbar=False,\n",
    "                                         progressbar_title=\"Feature Extraction\")"
   ]
  },
  {
   "cell_type": "code",
   "execution_count": 5,
   "metadata": {},
   "outputs": [],
   "source": [
    "data_path = \"C:/Users/janwe/Desktop/Uni/ETH/HS2023/Hack4Good/Data/\"\n",
    "\n",
    "# Files and Folders of interest\n",
    "cache_file = data_path + 'time_series_features.csv'\n",
    "path_weather_data = data_path + 'era5_land_t2m_pev_tp.csv'\n",
    "img_dir = data_path + \"images\"\n",
    "label_path = data_path + \"labels.csv\""
   ]
  },
  {
   "cell_type": "code",
   "execution_count": 3,
   "metadata": {},
   "outputs": [],
   "source": [
    "\n",
    "\n",
    "df = pd.read_csv(path_weather_data, index_col=(0, 1, 2))\n",
    "df.index = df.index.set_levels(df.index.levels[2].astype('datetime64[ns]'), level=2)\n",
    "weather_data = df.to_xarray()\n",
    "labels = pd.read_csv(label_path)\n",
    "labels['date'] = pd.to_datetime(labels['date'], format='mixed')"
   ]
  },
  {
   "cell_type": "code",
   "execution_count": 41,
   "metadata": {},
   "outputs": [],
   "source": [
    "def get_coords(img_name, labels, join_column):\n",
    "    row = labels[labels[join_column] == img_name]\n",
    "    return (row.iloc[0]['lat'], row.iloc[0]['lon'])\n",
    "\n",
    "def old_extract_features(img_name, weather_data, labels, join_column):\n",
    "    # get relevant data\n",
    "    frames=[]\n",
    "    for v,i in enumerate(img_name):\n",
    "        (lon, lat) = get_coords(i, labels, join_column)\n",
    "        date = labels[labels[join_column] == i].iloc[0]['date']\n",
    "        df = weather_data.sel(latitude= lat, longitude= lon, method='nearest').sel(time = slice(date - pd.DateOffset(days=30, second=1), date)).to_dataframe()\n",
    "        df.drop('longitude',axis=1,inplace=True)\n",
    "        df.drop('latitude',axis=1,inplace=True)\n",
    "        df['id']=v\n",
    "        frames.append(df)\n",
    "    final = pd.concat(frames)\n",
    "    final.to_csv(data_path+\"done.csv\")\n",
    "    # extract features\n",
    "    day = (np.sin(2 * np.pi * date.timetuple().tm_yday/365.0), np.cos(2 * np.pi * date.timetuple().tm_yday/365.0))"
   ]
  },
  {
   "cell_type": "code",
   "execution_count": 46,
   "metadata": {},
   "outputs": [],
   "source": [
    "old_extract_features(labels['filename'],weather_data,labels,'filename')"
   ]
  },
  {
   "cell_type": "code",
   "execution_count": 6,
   "metadata": {},
   "outputs": [],
   "source": [
    "test = pd.read_csv(data_path+'test_ts.csv')"
   ]
  },
  {
   "cell_type": "code",
   "execution_count": 14,
   "metadata": {},
   "outputs": [],
   "source": [
    "sub1=test.loc[test['id']%5==0]\n",
    "sub2=test.loc[test['id']%5==1]\n",
    "sub3=test.loc[test['id']%5==2]\n",
    "sub4=test.loc[test['id']%5==3]\n",
    "sub5=test.loc[test['id']%5==4]"
   ]
  },
  {
   "cell_type": "code",
   "execution_count": 8,
   "metadata": {},
   "outputs": [
    {
     "name": "stderr",
     "output_type": "stream",
     "text": [
      "Feature Extraction: 100%|██████████| 20/20 [16:17<00:00, 48.87s/it]  \n"
     ]
    }
   ],
   "source": [
    "\n",
    "X1 = extract_features(sub1, column_id='id', column_sort='time',default_fc_parameters=settings)"
   ]
  },
  {
   "cell_type": "code",
   "execution_count": 12,
   "metadata": {},
   "outputs": [
    {
     "name": "stderr",
     "output_type": "stream",
     "text": [
      "Feature Extraction: 100%|██████████| 40/40 [15:59<00:00, 23.98s/it]  \n"
     ]
    }
   ],
   "source": [
    "X2 = extract_features(sub2, column_id='id', column_sort='time',default_fc_parameters=settings,distributor=Distributor)"
   ]
  },
  {
   "cell_type": "code",
   "execution_count": 22,
   "metadata": {},
   "outputs": [
    {
     "name": "stderr",
     "output_type": "stream",
     "text": [
      "Feature Extraction: 100%|██████████| 20/20 [15:03<00:00, 45.16s/it]  \n"
     ]
    }
   ],
   "source": [
    "X5 = extract_features(sub5, column_id='id', column_sort='time',default_fc_parameters=settings,distributor=Distributor)\n",
    "X5.to_csv(data_path+'ts_features5.csv')"
   ]
  },
  {
   "cell_type": "code",
   "execution_count": 23,
   "metadata": {},
   "outputs": [],
   "source": [
    "Frames = [X1,X2,X3,X4,X5]"
   ]
  },
  {
   "cell_type": "code",
   "execution_count": 24,
   "metadata": {},
   "outputs": [],
   "source": [
    "tf_features_full = pd.concat(Frames)"
   ]
  },
  {
   "cell_type": "code",
   "execution_count": 26,
   "metadata": {},
   "outputs": [],
   "source": [
    "tf_features_full_narm=tf_features_full.dropna(axis=1)"
   ]
  },
  {
   "cell_type": "code",
   "execution_count": 29,
   "metadata": {},
   "outputs": [],
   "source": [
    "tf_features_full_narm.to_csv(data_path+'tf_features_full_narm.csv')"
   ]
  }
 ],
 "metadata": {
  "kernelspec": {
   "display_name": "Python 3",
   "language": "python",
   "name": "python3"
  },
  "language_info": {
   "codemirror_mode": {
    "name": "ipython",
    "version": 3
   },
   "file_extension": ".py",
   "mimetype": "text/x-python",
   "name": "python",
   "nbconvert_exporter": "python",
   "pygments_lexer": "ipython3",
   "version": "3.10.11"
  }
 },
 "nbformat": 4,
 "nbformat_minor": 2
}
