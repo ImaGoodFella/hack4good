{
 "cells": [
  {
   "cell_type": "code",
   "execution_count": 3,
   "metadata": {},
   "outputs": [],
   "source": [
    "from feature_extraction import get_data, extract_features"
   ]
  },
  {
   "cell_type": "code",
   "execution_count": 4,
   "metadata": {},
   "outputs": [],
   "source": [
    "# vars\n",
    "path_weather_data = '~/Documents/Hack4Good/era5_land_t2m_pev_tp.csv'\n",
    "path_labels = '~/Documents/Hack4Good/labels.csv'\n",
    "img_name = 'L1094F00008C01S00327Rp06279.jpg'"
   ]
  },
  {
   "cell_type": "code",
   "execution_count": 5,
   "metadata": {},
   "outputs": [],
   "source": [
    "(weather_data, labels) = get_data(path_weather_data, path_labels)"
   ]
  },
  {
   "cell_type": "code",
   "execution_count": 7,
   "metadata": {},
   "outputs": [],
   "source": [
    "features = extract_features(img_name, weather_data, labels)"
   ]
  },
  {
   "cell_type": "code",
   "execution_count": 8,
   "metadata": {},
   "outputs": [
    {
     "data": {
      "text/plain": [
       "array([ 3.03908570e+02,  2.88611270e+02,  2.95113240e+02,  3.96671900e-03,\n",
       "        5.11109830e-05,  4.85270772e-02,  1.48135894e-01,  2.72348539e-01,\n",
       "        3.42726700e-05, -4.34373500e-03, -5.82600603e-01, -1.17103121e+00,\n",
       "       -2.74430307e+00])"
      ]
     },
     "execution_count": 8,
     "metadata": {},
     "output_type": "execute_result"
    }
   ],
   "source": [
    "features"
   ]
  },
  {
   "cell_type": "code",
   "execution_count": null,
   "metadata": {},
   "outputs": [],
   "source": []
  }
 ],
 "metadata": {
  "kernelspec": {
   "display_name": "hack4good",
   "language": "python",
   "name": "python3"
  },
  "language_info": {
   "codemirror_mode": {
    "name": "ipython",
    "version": 3
   },
   "file_extension": ".py",
   "mimetype": "text/x-python",
   "name": "python",
   "nbconvert_exporter": "python",
   "pygments_lexer": "ipython3",
   "version": "3.12.0"
  }
 },
 "nbformat": 4,
 "nbformat_minor": 2
}
